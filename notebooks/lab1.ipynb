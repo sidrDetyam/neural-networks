{
 "cells": [
  {
   "cell_type": "code",
   "execution_count": 2,
   "metadata": {
    "collapsed": true
   },
   "outputs": [],
   "source": [
    "import matplotlib.pyplot as plt\n",
    "import pandas as pd\n",
    "import seaborn as sns"
   ]
  },
  {
   "cell_type": "code",
   "execution_count": 6,
   "outputs": [],
   "source": [
    "df = pd.read_excel(\"../data/data_mass.ods\", sheet_name=\"VU\", engine=\"odf\")\n",
    "df.info()"
   ],
   "metadata": {
    "collapsed": false
   }
  },
  {
   "cell_type": "code",
   "execution_count": 7,
   "outputs": [],
   "source": [
    "df.transform(lambda x: pd.to_numeric(x, errors='coerce') if x.dtype ==  else x)"
   ],
   "metadata": {
    "collapsed": false
   }
  },
  {
   "cell_type": "code",
   "execution_count": 8,
   "outputs": [
    {
     "name": "stdout",
     "output_type": "stream",
     "text": [
      "<class 'pandas.core.frame.DataFrame'>\n",
      "RangeIndex: 185 entries, 0 to 184\n",
      "Data columns (total 34 columns):\n",
      " #   Column                          Non-Null Count  Dtype         \n",
      "---  ------                          --------------  -----         \n",
      " 0   Unnamed: 0                      185 non-null    int64         \n",
      " 1   Unnamed: 1                      185 non-null    datetime64[ns]\n",
      " 2   Глубина манометра               181 non-null    float64       \n",
      " 3   Dшт                             185 non-null    float64       \n",
      " 4   Руст                            185 non-null    float64       \n",
      " 5   Рзаб                            181 non-null    float64       \n",
      " 6   Pлин                            178 non-null    float64       \n",
      " 7   Руст.1                          185 non-null    float64       \n",
      " 8   Рзаб.1                          181 non-null    float64       \n",
      " 9   Рлин                            174 non-null    float64       \n",
      " 10  Туст                            185 non-null    float64       \n",
      " 11  Тна шлейфе                      123 non-null    float64       \n",
      " 12  Тзаб                            181 non-null    float64       \n",
      " 13  Tлин                            178 non-null    float64       \n",
      " 14  Дебит газа                      185 non-null    float64       \n",
      " 15  Дебит ст. конд.                 185 non-null    float64       \n",
      " 16  Дебит воды                      185 non-null    float64       \n",
      " 17  Дебит смеси                     176 non-null    float64       \n",
      " 18  Дебит гааз                      178 non-null    float64       \n",
      " 19  Дебит кон нестабильный          178 non-null    float64       \n",
      " 20  Дебит воды.1                    178 non-null    float64       \n",
      " 21  Нэф                             185 non-null    float64       \n",
      " 22  Рпл. Тек (послед точка на КВД)  177 non-null    float64       \n",
      " 23  Рпл. Тек (Расчет по КВД)        158 non-null    float64       \n",
      " 24  Рпл. Тек (Карноухов)            135 non-null    float64       \n",
      " 25  Pсб                             178 non-null    float64       \n",
      " 26  Pсб.1                           185 non-null    float64       \n",
      " 27  Ro_g                            23 non-null     float64       \n",
      " 28  Ro_c                            93 non-null     float64       \n",
      " 29  Ro_w                            23 non-null     float64       \n",
      " 30  Удельная плотность газа         93 non-null     float64       \n",
      " 31  G_total                         23 non-null     float64       \n",
      " 32  КГФ                             23 non-null     float64       \n",
      " 33  КГФ.1                           70 non-null     float64       \n",
      "dtypes: datetime64[ns](1), float64(32), int64(1)\n",
      "memory usage: 49.3 KB\n"
     ]
    },
    {
     "data": {
      "text/plain": "     Unnamed: 0 Unnamed: 1  Глубина манометра    Dшт   Руст      Рзаб  \\\n0           804 2008-06-05             3576.3   7.94  249.6  370.1000   \n1           804 2008-06-06             3576.3   9.53  233.5  364.6000   \n2           804 2008-06-07             3576.3  11.11  213.4  357.1000   \n3           804 2008-06-08             3576.3  12.70  191.6  347.4000   \n4           804 2008-06-09             3576.3  14.29  171.9  337.7000   \n..          ...        ...                ...    ...    ...       ...   \n180       22505 2009-09-23             3678.0  12.70  182.2  271.5860   \n181       22505 2009-09-27             3678.0  14.29  157.0  249.0760   \n182       22505 2010-04-09             3679.5   7.94  211.9  289.3877   \n183       22505 2010-04-14             3679.5   9.53  204.0  282.8709   \n184       22505 2010-04-17             3679.5  11.11  187.5  267.4787   \n\n           Pлин  Руст.1  Рзаб.1        Рлин  ...  Рпл. Тек (Карноухов)   Pсб  \\\n0    101.800000   249.0   359.6  101.800000  ...                   NaN  93.6   \n1    101.300000   231.0   338.1  102.400000  ...                   NaN  92.9   \n2    101.600000   211.0   314.8  100.600000  ...                   NaN  91.4   \n3     98.400000   187.0   291.5   99.000000  ...                   NaN  89.2   \n4     99.200000   169.0   270.3   99.500000  ...                   NaN  89.7   \n..          ...     ...     ...         ...  ...                   ...   ...   \n180   93.255111   179.0   258.6   92.702141  ...                  60.8  89.7   \n181   96.472143   153.0   233.5  100.060417  ...                  60.8  87.3   \n182   91.131226   208.0   289.6   91.304642  ...                  61.3  88.2   \n183   91.173008   201.0   275.3   91.616821  ...                  61.3  88.5   \n184   91.530262   184.0   255.0   89.507935  ...                  61.3  89.8   \n\n         Pсб.1      Ro_g   Ro_c    Ro_w  Удельная плотность газа    G_total  \\\n0    92.376018  0.806017  801.0  1000.0                  0.669449  2.782623   \n1    91.685171  0.806017  801.0  1000.0                  0.669449  3.697781   \n2    90.204787  0.806017  801.0  1000.0                  0.669449  4.515073   \n3    88.033555  0.806017  801.0  1000.0                  0.669449  5.217673   \n4    88.527017  0.806017  801.0  1000.0                  0.669449  5.765092   \n..         ...       ...    ...     ...                       ...       ...   \n180  88.527017       NaN    NaN     NaN                       NaN       NaN   \n181  86.158401       NaN    NaN     NaN                       NaN       NaN   \n182  87.046632       NaN    NaN     NaN                       NaN       NaN   \n183  87.342709       NaN    NaN     NaN                       NaN       NaN   \n184  88.625709       NaN    NaN     NaN                       NaN       NaN   \n\n          КГФ  КГФ.1  \n0    311.9094    NaN  \n1    288.6003    NaN  \n2    248.7906    NaN  \n3    223.5591    NaN  \n4    215.1486    NaN  \n..        ...    ...  \n180       NaN    NaN  \n181       NaN    NaN  \n182       NaN    NaN  \n183       NaN    NaN  \n184       NaN    NaN  \n\n[185 rows x 34 columns]",
      "text/html": "<div>\n<style scoped>\n    .dataframe tbody tr th:only-of-type {\n        vertical-align: middle;\n    }\n\n    .dataframe tbody tr th {\n        vertical-align: top;\n    }\n\n    .dataframe thead th {\n        text-align: right;\n    }\n</style>\n<table border=\"1\" class=\"dataframe\">\n  <thead>\n    <tr style=\"text-align: right;\">\n      <th></th>\n      <th>Unnamed: 0</th>\n      <th>Unnamed: 1</th>\n      <th>Глубина манометра</th>\n      <th>Dшт</th>\n      <th>Руст</th>\n      <th>Рзаб</th>\n      <th>Pлин</th>\n      <th>Руст.1</th>\n      <th>Рзаб.1</th>\n      <th>Рлин</th>\n      <th>...</th>\n      <th>Рпл. Тек (Карноухов)</th>\n      <th>Pсб</th>\n      <th>Pсб.1</th>\n      <th>Ro_g</th>\n      <th>Ro_c</th>\n      <th>Ro_w</th>\n      <th>Удельная плотность газа</th>\n      <th>G_total</th>\n      <th>КГФ</th>\n      <th>КГФ.1</th>\n    </tr>\n  </thead>\n  <tbody>\n    <tr>\n      <th>0</th>\n      <td>804</td>\n      <td>2008-06-05</td>\n      <td>3576.3</td>\n      <td>7.94</td>\n      <td>249.6</td>\n      <td>370.1000</td>\n      <td>101.800000</td>\n      <td>249.0</td>\n      <td>359.6</td>\n      <td>101.800000</td>\n      <td>...</td>\n      <td>NaN</td>\n      <td>93.6</td>\n      <td>92.376018</td>\n      <td>0.806017</td>\n      <td>801.0</td>\n      <td>1000.0</td>\n      <td>0.669449</td>\n      <td>2.782623</td>\n      <td>311.9094</td>\n      <td>NaN</td>\n    </tr>\n    <tr>\n      <th>1</th>\n      <td>804</td>\n      <td>2008-06-06</td>\n      <td>3576.3</td>\n      <td>9.53</td>\n      <td>233.5</td>\n      <td>364.6000</td>\n      <td>101.300000</td>\n      <td>231.0</td>\n      <td>338.1</td>\n      <td>102.400000</td>\n      <td>...</td>\n      <td>NaN</td>\n      <td>92.9</td>\n      <td>91.685171</td>\n      <td>0.806017</td>\n      <td>801.0</td>\n      <td>1000.0</td>\n      <td>0.669449</td>\n      <td>3.697781</td>\n      <td>288.6003</td>\n      <td>NaN</td>\n    </tr>\n    <tr>\n      <th>2</th>\n      <td>804</td>\n      <td>2008-06-07</td>\n      <td>3576.3</td>\n      <td>11.11</td>\n      <td>213.4</td>\n      <td>357.1000</td>\n      <td>101.600000</td>\n      <td>211.0</td>\n      <td>314.8</td>\n      <td>100.600000</td>\n      <td>...</td>\n      <td>NaN</td>\n      <td>91.4</td>\n      <td>90.204787</td>\n      <td>0.806017</td>\n      <td>801.0</td>\n      <td>1000.0</td>\n      <td>0.669449</td>\n      <td>4.515073</td>\n      <td>248.7906</td>\n      <td>NaN</td>\n    </tr>\n    <tr>\n      <th>3</th>\n      <td>804</td>\n      <td>2008-06-08</td>\n      <td>3576.3</td>\n      <td>12.70</td>\n      <td>191.6</td>\n      <td>347.4000</td>\n      <td>98.400000</td>\n      <td>187.0</td>\n      <td>291.5</td>\n      <td>99.000000</td>\n      <td>...</td>\n      <td>NaN</td>\n      <td>89.2</td>\n      <td>88.033555</td>\n      <td>0.806017</td>\n      <td>801.0</td>\n      <td>1000.0</td>\n      <td>0.669449</td>\n      <td>5.217673</td>\n      <td>223.5591</td>\n      <td>NaN</td>\n    </tr>\n    <tr>\n      <th>4</th>\n      <td>804</td>\n      <td>2008-06-09</td>\n      <td>3576.3</td>\n      <td>14.29</td>\n      <td>171.9</td>\n      <td>337.7000</td>\n      <td>99.200000</td>\n      <td>169.0</td>\n      <td>270.3</td>\n      <td>99.500000</td>\n      <td>...</td>\n      <td>NaN</td>\n      <td>89.7</td>\n      <td>88.527017</td>\n      <td>0.806017</td>\n      <td>801.0</td>\n      <td>1000.0</td>\n      <td>0.669449</td>\n      <td>5.765092</td>\n      <td>215.1486</td>\n      <td>NaN</td>\n    </tr>\n    <tr>\n      <th>...</th>\n      <td>...</td>\n      <td>...</td>\n      <td>...</td>\n      <td>...</td>\n      <td>...</td>\n      <td>...</td>\n      <td>...</td>\n      <td>...</td>\n      <td>...</td>\n      <td>...</td>\n      <td>...</td>\n      <td>...</td>\n      <td>...</td>\n      <td>...</td>\n      <td>...</td>\n      <td>...</td>\n      <td>...</td>\n      <td>...</td>\n      <td>...</td>\n      <td>...</td>\n      <td>...</td>\n    </tr>\n    <tr>\n      <th>180</th>\n      <td>22505</td>\n      <td>2009-09-23</td>\n      <td>3678.0</td>\n      <td>12.70</td>\n      <td>182.2</td>\n      <td>271.5860</td>\n      <td>93.255111</td>\n      <td>179.0</td>\n      <td>258.6</td>\n      <td>92.702141</td>\n      <td>...</td>\n      <td>60.8</td>\n      <td>89.7</td>\n      <td>88.527017</td>\n      <td>NaN</td>\n      <td>NaN</td>\n      <td>NaN</td>\n      <td>NaN</td>\n      <td>NaN</td>\n      <td>NaN</td>\n      <td>NaN</td>\n    </tr>\n    <tr>\n      <th>181</th>\n      <td>22505</td>\n      <td>2009-09-27</td>\n      <td>3678.0</td>\n      <td>14.29</td>\n      <td>157.0</td>\n      <td>249.0760</td>\n      <td>96.472143</td>\n      <td>153.0</td>\n      <td>233.5</td>\n      <td>100.060417</td>\n      <td>...</td>\n      <td>60.8</td>\n      <td>87.3</td>\n      <td>86.158401</td>\n      <td>NaN</td>\n      <td>NaN</td>\n      <td>NaN</td>\n      <td>NaN</td>\n      <td>NaN</td>\n      <td>NaN</td>\n      <td>NaN</td>\n    </tr>\n    <tr>\n      <th>182</th>\n      <td>22505</td>\n      <td>2010-04-09</td>\n      <td>3679.5</td>\n      <td>7.94</td>\n      <td>211.9</td>\n      <td>289.3877</td>\n      <td>91.131226</td>\n      <td>208.0</td>\n      <td>289.6</td>\n      <td>91.304642</td>\n      <td>...</td>\n      <td>61.3</td>\n      <td>88.2</td>\n      <td>87.046632</td>\n      <td>NaN</td>\n      <td>NaN</td>\n      <td>NaN</td>\n      <td>NaN</td>\n      <td>NaN</td>\n      <td>NaN</td>\n      <td>NaN</td>\n    </tr>\n    <tr>\n      <th>183</th>\n      <td>22505</td>\n      <td>2010-04-14</td>\n      <td>3679.5</td>\n      <td>9.53</td>\n      <td>204.0</td>\n      <td>282.8709</td>\n      <td>91.173008</td>\n      <td>201.0</td>\n      <td>275.3</td>\n      <td>91.616821</td>\n      <td>...</td>\n      <td>61.3</td>\n      <td>88.5</td>\n      <td>87.342709</td>\n      <td>NaN</td>\n      <td>NaN</td>\n      <td>NaN</td>\n      <td>NaN</td>\n      <td>NaN</td>\n      <td>NaN</td>\n      <td>NaN</td>\n    </tr>\n    <tr>\n      <th>184</th>\n      <td>22505</td>\n      <td>2010-04-17</td>\n      <td>3679.5</td>\n      <td>11.11</td>\n      <td>187.5</td>\n      <td>267.4787</td>\n      <td>91.530262</td>\n      <td>184.0</td>\n      <td>255.0</td>\n      <td>89.507935</td>\n      <td>...</td>\n      <td>61.3</td>\n      <td>89.8</td>\n      <td>88.625709</td>\n      <td>NaN</td>\n      <td>NaN</td>\n      <td>NaN</td>\n      <td>NaN</td>\n      <td>NaN</td>\n      <td>NaN</td>\n      <td>NaN</td>\n    </tr>\n  </tbody>\n</table>\n<p>185 rows × 34 columns</p>\n</div>"
     },
     "execution_count": 8,
     "metadata": {},
     "output_type": "execute_result"
    }
   ],
   "source": [
    "df.info()"
   ],
   "metadata": {
    "collapsed": false
   }
  }
 ],
 "metadata": {
  "kernelspec": {
   "display_name": "Python 3",
   "language": "python",
   "name": "python3"
  },
  "language_info": {
   "codemirror_mode": {
    "name": "ipython",
    "version": 2
   },
   "file_extension": ".py",
   "mimetype": "text/x-python",
   "name": "python",
   "nbconvert_exporter": "python",
   "pygments_lexer": "ipython2",
   "version": "2.7.6"
  }
 },
 "nbformat": 4,
 "nbformat_minor": 0
}
