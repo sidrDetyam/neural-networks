{
 "cells": [
  {
   "cell_type": "code",
   "execution_count": 64,
   "metadata": {
    "collapsed": true,
    "ExecuteTime": {
     "end_time": "2023-05-19T21:48:05.973610165Z",
     "start_time": "2023-05-19T21:48:05.954064214Z"
    }
   },
   "outputs": [
    {
     "name": "stdout",
     "output_type": "stream",
     "text": [
      "here\n",
      "tensor([[[-0.3284,  0.1804,  0.4837],\n",
      "         [-0.4576,  0.2824,  0.2623],\n",
      "         [-0.3197,  0.2542,  0.2990],\n",
      "         [-0.3756,  0.2922,  0.4495],\n",
      "         [-0.4082,  0.2206,  0.2445]]], grad_fn=<TransposeBackward1>)\n"
     ]
    }
   ],
   "source": [
    "\n",
    "\n",
    "import torch\n",
    "from torch import nn\n",
    "\n",
    "input_size = 2\n",
    "hidden = 3\n",
    "nl = 2\n",
    "b = 1\n",
    "seq = 5\n",
    "\n",
    "\n",
    "input = torch.tensor([[[-1.1004, -0.3904],\n",
    "         [ 0.3346, -0.7759],\n",
    "         [ 1.5328,  0.9385],\n",
    "         [-2.1887,  0.0470],\n",
    "         [ 0.5389, -0.0714]]])\n",
    "\n",
    "h0 = torch.tensor([[[ 0.2149,  1.1969,  0.7943]],\n",
    "        [[-0.5070,  0.4209,  0.2965]]])\n",
    "\n",
    "rnn = nn.RNN(input_size, hidden, nl, batch_first=True)\n",
    "\n",
    "weights = torch.tensor([])\n",
    "\n",
    "def set_weights(layer):\n",
    "    if isinstance(layer, nn.RNN):\n",
    "        # Установка весов вашими значениями\n",
    "        layer.weight_hh_l0 = nn.Parameter(torch.ones_like(layer.weight_hh_l0))\n",
    "        layer.weight_ih_l0 = nn.Parameter(torch.ones_like(layer.weight_ih_l0))\n",
    "        layer.bias_hh_l0 = nn.Parameter(torch.zeros_like(layer.bias_hh_l0))\n",
    "        layer.bias_ih_l0 = nn.Parameter(torch.zeros_like(layer.bias_ih_l0))\n",
    "        print(\"here\")\n",
    "\n",
    "# rnn.apply(set_weights)\n",
    "\n",
    "\n",
    "\n",
    "\n",
    "#input = torch.randn(b, seq, input_size)\n",
    "#h0 = torch.randn(nl, b, output_size)\n",
    "output, hn = rnn(input, h0)\n",
    "\n",
    "print(output)\n"
   ]
  },
  {
   "cell_type": "code",
   "execution_count": 19,
   "outputs": [
    {
     "data": {
      "text/plain": "torch.Size([1, 5, 3])"
     },
     "execution_count": 19,
     "metadata": {},
     "output_type": "execute_result"
    }
   ],
   "source": [
    "output.shape"
   ],
   "metadata": {
    "collapsed": false,
    "ExecuteTime": {
     "end_time": "2023-05-19T21:23:18.141914856Z",
     "start_time": "2023-05-19T21:23:18.113923855Z"
    }
   }
  },
  {
   "cell_type": "code",
   "execution_count": 60,
   "outputs": [
    {
     "name": "stdout",
     "output_type": "stream",
     "text": [
      "torch.Size([3, 2])\n",
      "torch.Size([3, 3])\n",
      "torch.Size([3])\n",
      "torch.Size([3])\n",
      "torch.Size([3, 3])\n",
      "torch.Size([3, 3])\n",
      "torch.Size([3])\n",
      "torch.Size([3])\n"
     ]
    }
   ],
   "source": [
    "for i in rnn.parameters():\n",
    "    print(i.shape)"
   ],
   "metadata": {
    "collapsed": false,
    "ExecuteTime": {
     "end_time": "2023-05-19T21:42:37.243693847Z",
     "start_time": "2023-05-19T21:42:37.225152233Z"
    }
   }
  },
  {
   "cell_type": "code",
   "execution_count": 17,
   "outputs": [
    {
     "name": "stdout",
     "output_type": "stream",
     "text": [
      "tensor([[[ 0.2149,  1.1969,  0.7943]],\n",
      "\n",
      "        [[-0.5070,  0.4209,  0.2965]]])\n"
     ]
    }
   ],
   "source": [],
   "metadata": {
    "collapsed": false,
    "ExecuteTime": {
     "end_time": "2023-05-19T21:22:55.007687842Z",
     "start_time": "2023-05-19T21:22:55.002128301Z"
    }
   }
  },
  {
   "cell_type": "code",
   "execution_count": 16,
   "outputs": [],
   "source": [
    "torch.randn(nl, hidden * input_size + hidden * hidden + )"
   ],
   "metadata": {
    "collapsed": false,
    "ExecuteTime": {
     "end_time": "2023-05-19T21:22:23.693401469Z",
     "start_time": "2023-05-19T21:22:23.685178277Z"
    }
   }
  }
 ],
 "metadata": {
  "kernelspec": {
   "display_name": "Python 3",
   "language": "python",
   "name": "python3"
  },
  "language_info": {
   "codemirror_mode": {
    "name": "ipython",
    "version": 2
   },
   "file_extension": ".py",
   "mimetype": "text/x-python",
   "name": "python",
   "nbconvert_exporter": "python",
   "pygments_lexer": "ipython2",
   "version": "2.7.6"
  }
 },
 "nbformat": 4,
 "nbformat_minor": 0
}
