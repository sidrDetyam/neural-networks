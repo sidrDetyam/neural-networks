{
 "cells": [
  {
   "cell_type": "code",
   "execution_count": 2,
   "metadata": {
    "collapsed": true
   },
   "outputs": [],
   "source": [
    "import torch\n",
    "import numpy as np"
   ]
  },
  {
   "cell_type": "code",
   "execution_count": 12,
   "outputs": [
    {
     "name": "stdout",
     "output_type": "stream",
     "text": [
      "tensor([[25., 54.]], grad_fn=<ReluBackward0>)\n",
      "tensor([[ -762., -1020., -1278.]])\n",
      "tensor([[ 90., 168.]])\n",
      "tensor([[ -90., -180., -270.],\n",
      "        [-168., -336., -504.]])\n",
      "tensor([ -90., -168.])\n"
     ]
    }
   ],
   "source": [
    "import torch\n",
    "\n",
    "x = torch.tensor([[1., 2., 3.]\n",
    "                  #    , [1., 2., 3.]\n",
    "                  ],\n",
    "                 requires_grad=True)\n",
    "w = torch.tensor([[1., 2., 3.],\n",
    "                  [4., 5., 6.]])\n",
    "\n",
    "b = torch.tensor([11., 22.])\n",
    "\n",
    "y = torch.tensor([[115., 222.]], requires_grad=True)\n",
    "\n",
    "# Создание тензоров для входных данных, весов и смещения\n",
    "#x = torch.randn(1, 3) # 10 примеров по 5 признаков\n",
    "#w = torch.randn(2, 3) # 5 признаков, 3 выходных нейрона\n",
    "#b = torch.randn(2) # смещение для каждого выходного нейрона\n",
    "\n",
    "# Определение линейной функции со смещением\n",
    "linear = torch.nn.Linear(3, 2)  # 5 входных признаков, 3 выходных нейрона\n",
    "linear.weight.data = w\n",
    "linear.bias.data = b\n",
    "\n",
    "# Определение функции потерь\n",
    "loss_fn = torch.nn.MSELoss()\n",
    "\n",
    "relu = torch.nn.ReLU()\n",
    "\n",
    "# Расчет функции потерь и градиента\n",
    "y_pred = relu(linear(x))  # Применение линейной функции\n",
    "\n",
    "print(y_pred)\n",
    "\n",
    "loss = loss_fn(y_pred, y)  # Расчет функции потерь\n",
    "loss.backward()  # Расчет градиента\n",
    "\n",
    "# Получение градиента по весам и смещению\n",
    "dw = linear.weight.grad\n",
    "db = linear.bias.grad\n",
    "\n",
    "print(x.grad)\n",
    "print(y.grad)\n",
    "print(dw)\n",
    "print(db)"
   ],
   "metadata": {
    "collapsed": false
   }
  },
  {
   "cell_type": "code",
   "execution_count": 3,
   "outputs": [
    {
     "name": "stdout",
     "output_type": "stream",
     "text": [
      "tensor(1.1041, grad_fn=<NegBackward0>)\n",
      "tensor([[ 0.0900,  0.2447, -0.3348],\n",
      "        [-0.5017,  0.4983,  0.0034]])\n"
     ]
    }
   ],
   "source": [
    "\n",
    "cel = torch.nn.CrossEntropyLoss(reduction=\"sum\")\n",
    "b = torch.tensor([[1., 2., 3.],\n",
    "                  [10., 10., 5.]], requires_grad=True)\n",
    "\n",
    "t = torch.tensor([[0, 0, 1.], [1., 0, 0]], requires_grad=True)\n",
    "\n",
    "r = torch.nn.ReLU()\n",
    "t = r(t)\n",
    "\n",
    "loss2 = cel(b, t)\n",
    "loss2.backward()\n",
    "\n",
    "print(loss2)\n",
    "print(b.grad)"
   ],
   "metadata": {
    "collapsed": false
   }
  },
  {
   "cell_type": "code",
   "execution_count": 27,
   "outputs": [
    {
     "name": "stdout",
     "output_type": "stream",
     "text": [
      "[4.0, 8.0, 12.0, 8.0, 4.0, 12.0, 23.0, 33.0, 21.0, 10.0, 22.0, 43.0, 63.0, 41.0, 20.0, 22.0, 43.0, 63.0, 41.0, 20.0, 18.0, 35.0, 51.0, 33.0, 16.0, 10.0, 20.0, 30.0, 20.0, 10.0, 12.0, 38.0, 79.0, 67.0, 41.0, 16.0, 88.0, 129.0, 113.0, 41.0, 18.0, 94.0, 137.0, 119.0, 43.0, 18.0, 94.0, 137.0, 119.0, 43.0, 6.0, 56.0, 58.0, 52.0, 2.0, 2.0, 6.0, 8.0, 6.0, 2.0]\n"
     ]
    }
   ],
   "source": [
    "import numpy as np;\n",
    "import torch\n",
    "\n",
    "k = np.array(\n",
    "    [[\n",
    "        1, 0, -1,\n",
    "        2, 0, -2,\n",
    "        1, 0, -1\n",
    "    ],\n",
    "        [\n",
    "            1, 3, -1,\n",
    "            2, 44, -2,\n",
    "            1, 2, -1\n",
    "        ],\n",
    "\n",
    "        [\n",
    "            3, 4, 5,\n",
    "            6, 7, 8,\n",
    "            9, 10, 11\n",
    "        ],\n",
    "        [11, 23, 42,\n",
    "         2, 2, 2,\n",
    "         1, 2, 3]\n",
    "    ]).reshape(2, 2, 3, 3).astype(np.float32)\n",
    "\n",
    "x = np.array(\n",
    "    [[\n",
    "        [1, 1, 1, 2, 3],\n",
    "        [1, 1, 1, 2, 3],\n",
    "        [1, 1, 1, 2, 3],\n",
    "        [2, 2, 2, 2, 3],\n",
    "        [3, 3, 3, 3, 3],\n",
    "        [4, 4, 4, 4, 4]\n",
    "    ],\n",
    "\n",
    "        [\n",
    "            [1, 1, 5, 2, 3],\n",
    "            [1, 1, 6, 2, 3],\n",
    "            [1, 1, 7, 2, 3],\n",
    "            [2, 2, 8, 2, 3],\n",
    "            [3, 3, 9, 3, 3],\n",
    "            [4, 4, 0, 4, 4]\n",
    "        ]\n",
    "\n",
    "    ]).reshape(1, 2, 6, 5).astype(np.float32)\n",
    "\n",
    "\n",
    "conv = torch.nn.Conv2d(\n",
    "    in_channels=2,\n",
    "    out_channels=2,\n",
    "    kernel_size=3,\n",
    "    bias=False,\n",
    "    stride=1,\n",
    "    padding_mode='zeros',\n",
    "    padding=0\n",
    ")\n",
    "\n",
    "\n",
    "x_tensor = torch.from_numpy(x)\n",
    "x_tensor.requires_grad = True\n",
    "conv.weight = torch.nn.Parameter(torch.from_numpy(k))\n",
    "conv.weight.requires_grad = True\n",
    "out = conv(x_tensor)\n",
    "loss = out.sum()\n",
    "loss.backward()\n",
    "\n",
    "#print(out)\n",
    "#print(conv.weight.grad)\n",
    "print(list(x_tensor.grad.numpy().flatten()))\n",
    "#print(conv1(x1_tensor))\n",
    "# print(conv1(x2_tensor))"
   ],
   "metadata": {
    "collapsed": false,
    "ExecuteTime": {
     "start_time": "2023-04-10T17:19:21.350188Z",
     "end_time": "2023-04-10T17:19:21.390390Z"
    }
   }
  }
 ],
 "metadata": {
  "kernelspec": {
   "display_name": "Python 3",
   "language": "python",
   "name": "python3"
  },
  "language_info": {
   "codemirror_mode": {
    "name": "ipython",
    "version": 2
   },
   "file_extension": ".py",
   "mimetype": "text/x-python",
   "name": "python",
   "nbconvert_exporter": "python",
   "pygments_lexer": "ipython2",
   "version": "2.7.6"
  }
 },
 "nbformat": 4,
 "nbformat_minor": 0
}
