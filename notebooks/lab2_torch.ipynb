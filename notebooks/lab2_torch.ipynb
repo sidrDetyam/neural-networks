{
 "cells": [
  {
   "cell_type": "code",
   "execution_count": 1,
   "metadata": {
    "collapsed": true
   },
   "outputs": [],
   "source": [
    "import torch\n",
    "import numpy as np"
   ]
  },
  {
   "cell_type": "code",
   "execution_count": 69,
   "outputs": [
    {
     "name": "stdout",
     "output_type": "stream",
     "text": [
      "tensor([[ -762., -1020., -1278.]])\n",
      "tensor([[ 90., 168.]])\n",
      "tensor([[ -90., -180., -270.],\n",
      "        [-168., -336., -504.]])\n",
      "tensor([ -90., -168.])\n"
     ]
    }
   ],
   "source": [
    "import torch\n",
    "\n",
    "x = torch.tensor([[1., 2., 3.]], requires_grad=True)\n",
    "w = torch.tensor([[1., 2., 3.],\n",
    "                  [4., 5., 6.]])\n",
    "\n",
    "b = torch.tensor([11., 22.])\n",
    "\n",
    "y = torch.tensor([[115., 222.]], requires_grad=True)\n",
    "\n",
    "# Создание тензоров для входных данных, весов и смещения\n",
    "#x = torch.randn(1, 3) # 10 примеров по 5 признаков\n",
    "#w = torch.randn(2, 3) # 5 признаков, 3 выходных нейрона\n",
    "#b = torch.randn(2) # смещение для каждого выходного нейрона\n",
    "\n",
    "# Определение линейной функции со смещением\n",
    "linear = torch.nn.Linear(3, 2) # 5 входных признаков, 3 выходных нейрона\n",
    "linear.weight.data = w\n",
    "linear.bias.data = b\n",
    "\n",
    "# Определение функции потерь\n",
    "loss_fn = torch.nn.MSELoss()\n",
    "\n",
    "# Расчет функции потерь и градиента\n",
    "y_pred = linear(x) # Применение линейной функции\n",
    "loss = loss_fn(y_pred, y) # Расчет функции потерь\n",
    "loss.backward() # Расчет градиента\n",
    "\n",
    "# Получение градиента по весам и смещению\n",
    "dw = linear.weight.grad\n",
    "db = linear.bias.grad\n",
    "\n",
    "print(x.grad)\n",
    "print(y.grad)\n",
    "print(dw)\n",
    "print(db)"
   ],
   "metadata": {
    "collapsed": false
   }
  }
 ],
 "metadata": {
  "kernelspec": {
   "display_name": "Python 3",
   "language": "python",
   "name": "python3"
  },
  "language_info": {
   "codemirror_mode": {
    "name": "ipython",
    "version": 2
   },
   "file_extension": ".py",
   "mimetype": "text/x-python",
   "name": "python",
   "nbconvert_exporter": "python",
   "pygments_lexer": "ipython2",
   "version": "2.7.6"
  }
 },
 "nbformat": 4,
 "nbformat_minor": 0
}
