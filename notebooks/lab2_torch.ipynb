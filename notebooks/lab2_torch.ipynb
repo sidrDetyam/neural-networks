{
 "cells": [
  {
   "cell_type": "code",
   "execution_count": 3,
   "metadata": {
    "collapsed": true,
    "ExecuteTime": {
     "start_time": "2023-04-15T05:31:18.596205Z",
     "end_time": "2023-04-15T05:31:22.268982Z"
    }
   },
   "outputs": [],
   "source": [
    "import torch\n",
    "import numpy as np"
   ]
  },
  {
   "cell_type": "code",
   "execution_count": 1,
   "outputs": [
    {
     "ename": "ModuleNotFoundError",
     "evalue": "No module named 'torch'",
     "output_type": "error",
     "traceback": [
      "\u001B[0;31m---------------------------------------------------------------------------\u001B[0m",
      "\u001B[0;31mModuleNotFoundError\u001B[0m                       Traceback (most recent call last)",
      "Cell \u001B[0;32mIn[1], line 1\u001B[0m\n\u001B[0;32m----> 1\u001B[0m \u001B[38;5;28;01mimport\u001B[39;00m \u001B[38;5;21;01mtorch\u001B[39;00m\n\u001B[1;32m      3\u001B[0m x \u001B[38;5;241m=\u001B[39m torch\u001B[38;5;241m.\u001B[39mtensor([[\u001B[38;5;241m1.\u001B[39m, \u001B[38;5;241m2.\u001B[39m, \u001B[38;5;241m3.\u001B[39m]\n\u001B[1;32m      4\u001B[0m                   \u001B[38;5;66;03m#    , [1., 2., 3.]\u001B[39;00m\n\u001B[1;32m      5\u001B[0m                   ],\n\u001B[1;32m      6\u001B[0m                  requires_grad\u001B[38;5;241m=\u001B[39m\u001B[38;5;28;01mTrue\u001B[39;00m)\n\u001B[1;32m      7\u001B[0m w \u001B[38;5;241m=\u001B[39m torch\u001B[38;5;241m.\u001B[39mtensor([[\u001B[38;5;241m1.\u001B[39m, \u001B[38;5;241m2.\u001B[39m, \u001B[38;5;241m3.\u001B[39m],\n\u001B[1;32m      8\u001B[0m                   [\u001B[38;5;241m4.\u001B[39m, \u001B[38;5;241m5.\u001B[39m, \u001B[38;5;241m6.\u001B[39m]])\n",
      "\u001B[0;31mModuleNotFoundError\u001B[0m: No module named 'torch'"
     ]
    }
   ],
   "source": [
    "import torch\n",
    "\n",
    "x = torch.tensor([[1., 2., 3.]\n",
    "                  #    , [1., 2., 3.]\n",
    "                  ],\n",
    "                 requires_grad=True)\n",
    "w = torch.tensor([[1., 2., 3.],\n",
    "                  [4., 5., 6.]])\n",
    "\n",
    "b = torch.tensor([11., 22.])\n",
    "\n",
    "y = torch.tensor([[115., 222.]], requires_grad=True)\n",
    "\n",
    "# Создание тензоров для входных данных, весов и смещения\n",
    "#x = torch.randn(1, 3) # 10 примеров по 5 признаков\n",
    "#w = torch.randn(2, 3) # 5 признаков, 3 выходных нейрона\n",
    "#b = torch.randn(2) # смещение для каждого выходного нейрона\n",
    "\n",
    "# Определение линейной функции со смещением\n",
    "linear = torch.nn.Linear(3, 2)  # 5 входных признаков, 3 выходных нейрона\n",
    "linear.weight.data = w\n",
    "linear.bias.data = b\n",
    "\n",
    "# Определение функции потерь\n",
    "loss_fn = torch.nn.MSELoss()\n",
    "\n",
    "relu = torch.nn.ReLU()\n",
    "\n",
    "# Расчет функции потерь и градиента\n",
    "y_pred = relu(linear(x))  # Применение линейной функции\n",
    "\n",
    "print(y_pred)\n",
    "\n",
    "loss = loss_fn(y_pred, y)  # Расчет функции потерь\n",
    "loss.backward()  # Расчет градиента\n",
    "\n",
    "# Получение градиента по весам и смещению\n",
    "dw = linear.weight.grad\n",
    "db = linear.bias.grad\n",
    "\n",
    "print(x.grad)\n",
    "print(y.grad)\n",
    "print(dw)\n",
    "print(db)"
   ],
   "metadata": {
    "collapsed": false
   }
  },
  {
   "cell_type": "code",
   "execution_count": 3,
   "outputs": [
    {
     "name": "stdout",
     "output_type": "stream",
     "text": [
      "tensor(1.1041, grad_fn=<NegBackward0>)\n",
      "tensor([[ 0.0900,  0.2447, -0.3348],\n",
      "        [-0.5017,  0.4983,  0.0034]])\n"
     ]
    }
   ],
   "source": [
    "\n",
    "cel = torch.nn.CrossEntropyLoss(reduction=\"sum\")\n",
    "b = torch.tensor([[1., 2., 3.],\n",
    "                  [10., 10., 5.]], requires_grad=True)\n",
    "\n",
    "t = torch.tensor([[0, 0, 1.], [1., 0, 0]], requires_grad=True)\n",
    "\n",
    "r = torch.nn.ReLU()\n",
    "t = r(t)\n",
    "\n",
    "loss2 = cel(b, t)\n",
    "loss2.backward()\n",
    "\n",
    "print(loss2)\n",
    "print(b.grad)"
   ],
   "metadata": {
    "collapsed": false
   }
  },
  {
   "cell_type": "code",
   "execution_count": 22,
   "outputs": [
    {
     "name": "stdout",
     "output_type": "stream",
     "text": [
      "[12.0, 12.0]\n"
     ]
    }
   ],
   "source": [
    "import numpy as np;\n",
    "import torch\n",
    "\n",
    "k = np.array(\n",
    "    [[\n",
    "        1, 0, -1,\n",
    "        2, 0, -2,\n",
    "        1, 0, -1\n",
    "    ],\n",
    "        [\n",
    "            1, 3, -1,\n",
    "            2, 44, -2,\n",
    "            1, 2, -1\n",
    "        ],\n",
    "\n",
    "        [\n",
    "            3, 4, 5,\n",
    "            6, 7, 8,\n",
    "            9, 10, 11\n",
    "        ],\n",
    "        [11, 23, 42,\n",
    "         2, 2, 2,\n",
    "         1, 2, 3]\n",
    "    ]).reshape(2, 2, 3, 3).astype(np.float32)\n",
    "\n",
    "x = np.array(\n",
    "    [[\n",
    "        [1, 1, 1, 2, 3],\n",
    "        [1, 1, 1, 2, 3],\n",
    "        [1, 1, 1, 2, 3],\n",
    "        [2, 2, 2, 2, 3],\n",
    "        [3, 3, 3, 3, 3],\n",
    "        [4, 4, 4, 4, 4]\n",
    "    ],\n",
    "\n",
    "        [\n",
    "            [1, 1, 5, 2, 3],\n",
    "            [1, 1, 6, 2, 3],\n",
    "            [1, 1, 7, 2, 3],\n",
    "            [2, 2, 8, 2, 3],\n",
    "            [3, 3, 9, 3, 3],\n",
    "            [4, 4, 0, 4, 4]\n",
    "        ]\n",
    "\n",
    "    ]).reshape(1, 2, 6, 5).astype(np.float32)\n",
    "\n",
    "\n",
    "conv = torch.nn.Conv2d(\n",
    "    in_channels=2,\n",
    "    out_channels=2,\n",
    "    kernel_size=3,\n",
    "    bias=False,\n",
    "    stride=1,\n",
    "    padding_mode='zeros',\n",
    "    padding=0\n",
    ")\n",
    "\n",
    "\n",
    "x_tensor = torch.from_numpy(x)\n",
    "x_tensor.requires_grad = True\n",
    "conv.weight = torch.nn.Parameter(torch.from_numpy(k))\n",
    "conv.weight.requires_grad = True\n",
    "out = conv(x_tensor)\n",
    "loss = out.sum()\n",
    "loss.backward()\n",
    "\n",
    "#print(out)\n",
    "#print(conv.weight.grad)\n",
    "print(list(x_tensor.grad.numpy().flatten()))\n",
    "#print(conv1(x1_tensor))\n",
    "# print(conv1(x2_tensor))\n",
    "44 * 128"
   ],
   "metadata": {
    "collapsed": false,
    "ExecuteTime": {
     "start_time": "2023-04-15T05:56:01.163587Z",
     "end_time": "2023-04-15T05:56:01.206214Z"
    }
   }
  }
 ],
 "metadata": {
  "kernelspec": {
   "display_name": "Python 3",
   "language": "python",
   "name": "python3"
  },
  "language_info": {
   "codemirror_mode": {
    "name": "ipython",
    "version": 2
   },
   "file_extension": ".py",
   "mimetype": "text/x-python",
   "name": "python",
   "nbconvert_exporter": "python",
   "pygments_lexer": "ipython2",
   "version": "2.7.6"
  }
 },
 "nbformat": 4,
 "nbformat_minor": 0
}
